{
 "cells": [
  {
   "cell_type": "code",
   "execution_count": 85,
   "metadata": {},
   "outputs": [],
   "source": [
    "import pandas as pd\n",
    "import numpy as np\n",
    "from sklearn.preprocessing import OrdinalEncoder, StandardScaler\n",
    "import xgboost as xgb\n",
    "from sklearn.svm import SVC\n",
    "import os\n",
    "\n",
    "from sklearn.linear_model import LogisticRegression\n",
    "from sklearn.naive_bayes import GaussianNB \n",
    "from sklearn.model_selection import train_test_split \n",
    "from sklearn.model_selection import GridSearchCV # cross validation\n",
    "from sklearn.model_selection import KFold\n",
    "from sklearn import metrics\n",
    "from sklearn.metrics import accuracy_score, RocCurveDisplay, roc_curve\n",
    "from sklearn.metrics import confusion_matrix # creates a confusion matrix\n",
    "from sklearn.metrics import plot_confusion_matrix # draws a confusion matrix\n",
    "from sklearn.ensemble import GradientBoostingClassifier, RandomForestClassifier, AdaBoostClassifier\n",
    "from sklearn.metrics import classification_report, roc_auc_score\n",
    "import seaborn as sns\n",
    "import joblib\n",
    "import sklearn.utils\n",
    "from matplotlib import pyplot as plt\n",
    "\n",
    "\n"
   ]
  },
  {
   "cell_type": "code",
   "execution_count": 7,
   "metadata": {},
   "outputs": [],
   "source": [
    "folder = '/Users/darrenhum/pCloud Drive/Data Science/Learning - MAGES/University Application Acceptance/Data/'\n",
    "X_test = pd.read_csv(os.path.join(folder, 'X_test.csv'))\n",
    "X_train = pd.read_csv(os.path.join(folder, 'X_train.csv'))\n",
    "y_train = pd.read_csv(os.path.join(folder, 'y_train.csv'))\n",
    "y_test = pd.read_csv(os.path.join(folder, 'y_test.csv'))"
   ]
  },
  {
   "cell_type": "code",
   "execution_count": 8,
   "metadata": {},
   "outputs": [
    {
     "data": {
      "text/plain": [
       "(76652, 35)"
      ]
     },
     "execution_count": 8,
     "metadata": {},
     "output_type": "execute_result"
    }
   ],
   "source": [
    "X_train.shape"
   ]
  },
  {
   "cell_type": "code",
   "execution_count": 9,
   "metadata": {},
   "outputs": [],
   "source": [
    "# function to run the model after fit and save relavent information into the dictionary\n",
    "all_results = {}\n",
    "def result_report(model, modelname, iteration, X_train = X_train, X_test = X_test):\n",
    "    \n",
    "    #running all the models\n",
    "    train_result = model.predict(X_train)\n",
    "    test_result = model.predict(X_test)\n",
    "    test_result_prob = model.predict_proba(X_test)\n",
    "    train_result_prob = model.predict_proba(X_train)\n",
    "\n",
    "    #generating overall metrics\n",
    "    report_train = classification_report(y_train, train_result, output_dict=True)\n",
    "    report_test = classification_report(y_test, test_result, output_dict=True)\n",
    "\n",
    "    #generating auc\n",
    "    auc = metrics.roc_auc_score(y_test, test_result_prob[:,1])\n",
    "    auc_train = metrics.roc_auc_score(y_train, train_result_prob[:,1])\n",
    "\n",
    "    #saving the metrics\n",
    "    dict_var = {}\n",
    "    dict_var['train'] = report_train\n",
    "    dict_var['test'] = report_test\n",
    "    dict_var['test']['auc'] = auc\n",
    "    dict_var['train']['cm'] = confusion_matrix(y_train, train_result)\n",
    "    dict_var['test']['cm'] = confusion_matrix(y_test, test_result)\n",
    "\n",
    "    all_results[f'{modelname}-{iteration}'] = dict_var\n",
    "\n",
    "    #print auc\n",
    "    return print('train:', auc_train, 'test:', auc)"
   ]
  },
  {
   "cell_type": "code",
   "execution_count": 74,
   "metadata": {},
   "outputs": [],
   "source": [
    "def cm_heatmap(array):\n",
    "    perc = (array.T/np.sum(array)).T\n",
    "    cm = sns.heatmap(perc, annot=True, fmt='.1%')\n",
    "    return cm"
   ]
  },
  {
   "cell_type": "markdown",
   "metadata": {},
   "source": [
    "We will run several models and select the best."
   ]
  },
  {
   "cell_type": "markdown",
   "metadata": {},
   "source": [
    "### Model - XGBOOST"
   ]
  },
  {
   "cell_type": "markdown",
   "metadata": {},
   "source": [
    "#### 1st Iteration"
   ]
  },
  {
   "cell_type": "code",
   "execution_count": 10,
   "metadata": {},
   "outputs": [
    {
     "data": {
      "text/plain": [
       "XGBClassifier(base_score=0.5, booster='gbtree', callbacks=None,\n",
       "              colsample_bylevel=1, colsample_bynode=1, colsample_bytree=1,\n",
       "              early_stopping_rounds=None, enable_categorical=False,\n",
       "              eval_metric='auc', gamma=0, gpu_id=-1, grow_policy='depthwise',\n",
       "              importance_type=None, interaction_constraints='',\n",
       "              learning_rate=0.300000012, max_bin=256, max_cat_to_onehot=4,\n",
       "              max_delta_step=0, max_depth=6, max_leaves=0, min_child_weight=1,\n",
       "              missing=nan, monotone_constraints='()', n_estimators=100,\n",
       "              n_jobs=0, num_parallel_tree=1, predictor='auto', random_state=24,\n",
       "              reg_alpha=0, reg_lambda=1, ...)"
      ]
     },
     "execution_count": 10,
     "metadata": {},
     "output_type": "execute_result"
    }
   ],
   "source": [
    "# First Iteration\n",
    "xg = xgb.XGBClassifier(objective='binary:logistic', \n",
    "                            eval_metric='auc', \n",
    "                            random_state = 24)\n",
    "xg.fit(X_train, y_train)"
   ]
  },
  {
   "cell_type": "code",
   "execution_count": 11,
   "metadata": {},
   "outputs": [
    {
     "name": "stdout",
     "output_type": "stream",
     "text": [
      "train: 0.9765661131852339 test: 0.8992662304474297\n"
     ]
    }
   ],
   "source": [
    "result_report(xg, 'xgb', 1)\n"
   ]
  },
  {
   "cell_type": "markdown",
   "metadata": {},
   "source": [
    "We see the model here is overfitting to the training data. We need to reduce complexity. Let's try:\n",
    "- reducing the max_depth parameter from the default of 6\n",
    "- increasing the gamma from the default of 0\n",
    "- subsampling"
   ]
  },
  {
   "cell_type": "markdown",
   "metadata": {},
   "source": [
    "#### 2nd Iteration"
   ]
  },
  {
   "cell_type": "code",
   "execution_count": 12,
   "metadata": {},
   "outputs": [
    {
     "data": {
      "text/plain": [
       "XGBClassifier(base_score=0.5, booster='gbtree', callbacks=None,\n",
       "              colsample_bylevel=1, colsample_bynode=1, colsample_bytree=1,\n",
       "              early_stopping_rounds=None, enable_categorical=False,\n",
       "              eval_metric='auc', gamma=0.5, gpu_id=-1, grow_policy='depthwise',\n",
       "              importance_type=None, interaction_constraints='',\n",
       "              learning_rate=0.300000012, max_bin=256, max_cat_to_onehot=4,\n",
       "              max_delta_step=0, max_depth=3, max_leaves=0, min_child_weight=1,\n",
       "              missing=nan, monotone_constraints='()', n_estimators=100,\n",
       "              n_jobs=0, num_parallel_tree=1, predictor='auto', random_state=24,\n",
       "              reg_alpha=0, reg_lambda=1, ...)"
      ]
     },
     "execution_count": 12,
     "metadata": {},
     "output_type": "execute_result"
    }
   ],
   "source": [
    "xg2 = xgb.XGBClassifier(objective='binary:logistic', \n",
    "                            eval_metric='auc', \n",
    "                            random_state = 24,\n",
    "                            \n",
    "                            max_depth = 3,\n",
    "                            gamma = 0.5,\n",
    "                            subsample = 0.35,\n",
    "                            scale_pos_weight = 2)\n",
    "xg2.fit(X_train, y_train)"
   ]
  },
  {
   "cell_type": "code",
   "execution_count": 13,
   "metadata": {},
   "outputs": [
    {
     "name": "stdout",
     "output_type": "stream",
     "text": [
      "train: 0.9518038094973922 test: 0.8992173383174942\n"
     ]
    }
   ],
   "source": [
    "result_report(xg2, 'xgb', 2)"
   ]
  },
  {
   "cell_type": "code",
   "execution_count": 15,
   "metadata": {},
   "outputs": [
    {
     "name": "stdout",
     "output_type": "stream",
     "text": [
      "Fitting 4 folds for each of 64 candidates, totalling 256 fits\n"
     ]
    },
    {
     "data": {
      "text/plain": [
       "{'colsample_bytree': 0.8,\n",
       " 'eta': 0.1,\n",
       " 'gamma': 0.2,\n",
       " 'lambda': 1,\n",
       " 'max_depth': 5,\n",
       " 'min_child_weight': 1,\n",
       " 'scale_pos_weight': 1,\n",
       " 'subsample': 0.8}"
      ]
     },
     "execution_count": 15,
     "metadata": {},
     "output_type": "execute_result"
    }
   ],
   "source": [
    "# ROUND 1: First set of parameters ------------------\n",
    "param_grid_xg = {\n",
    "    'max_depth': [4, 5],\n",
    "    'eta': [0.1, 0.2],\n",
    "    'min_child_weight' : [1, 2],\n",
    "    'lambda' : [1,2],\n",
    "    'gamma': [0.2, 0.5],\n",
    "    'scale_pos_weight': [1, 1.5],\n",
    "    \n",
    "    'subsample' : [0.8],\n",
    "    'colsample_bytree' : [0.8]\n",
    "    \n",
    "}\n",
    "\n",
    "grid_model_xg = GridSearchCV(param_grid= param_grid_xg, \n",
    "                             estimator= xg2,\n",
    "                             scoring='roc_auc',\n",
    "                             cv= 4, \n",
    "                             verbose=1)\n",
    "\n",
    "grid_model_xg.fit(X_train, y_train)\n",
    "\n",
    "grid_model_xg.best_params_"
   ]
  },
  {
   "cell_type": "markdown",
   "metadata": {},
   "source": [
    "{'gamma': 1.0, 'learning_rate': 0.1, 'max_depth': 6, 'scale_pos_weight': 1}\n",
    "{'gamma': 0, 'learning_rate': 0.01, 'max_depth': 3, 'scale_pos_weight': 4}\n",
    "{'gamma': 0, 'learning_rate': 0.1, 'max_depth': 3, 'scale_pos_weight': 1}\n"
   ]
  },
  {
   "cell_type": "code",
   "execution_count": 16,
   "metadata": {},
   "outputs": [
    {
     "data": {
      "text/plain": [
       "XGBClassifier(base_score=0.5, booster='gbtree', callbacks=None,\n",
       "              colsample_bylevel=1, colsample_bynode=1, colsample_bytree=0.8,\n",
       "              early_stopping_rounds=None, enable_categorical=False, eta=0.1,\n",
       "              eval_metric='auc', gamma=0.2, gpu_id=-1, grow_policy='depthwise',\n",
       "              importance_type=None, interaction_constraints='',\n",
       "              learning_rate=0.100000001, max_bin=256, max_cat_to_onehot=4,\n",
       "              max_delta_step=0, max_depth=5, max_leaves=0, min_child_weight=1,\n",
       "              missing=nan, monotone_constraints='()', n_estimators=100,\n",
       "              n_jobs=0, num_parallel_tree=1, predictor='auto', random_state=24,\n",
       "              reg_alpha=0, ...)"
      ]
     },
     "execution_count": 16,
     "metadata": {},
     "output_type": "execute_result"
    }
   ],
   "source": [
    "xg3 = xgb.XGBClassifier(    objective='binary:logistic', \n",
    "                            eval_metric='auc', \n",
    "                            random_state = 24,\n",
    "                            \n",
    "                            colsample_bytree = 0.8,\n",
    "                            eta = 0.1,\n",
    "                            gamma = 0.2,\n",
    "                            reg_lambda = 1,\n",
    "                            max_depth = 5,\n",
    "                            min_child_weight = 1,\n",
    "                            scale_pos_weight = 1,\n",
    "                            subsample = 0.8\n",
    "                        )\n",
    "xg3.fit(X_train, y_train)\n",
    "\n"
   ]
  },
  {
   "cell_type": "code",
   "execution_count": 17,
   "metadata": {},
   "outputs": [
    {
     "name": "stdout",
     "output_type": "stream",
     "text": [
      "train: 0.9545609405937171 test: 0.8805640082171949\n"
     ]
    }
   ],
   "source": [
    "result_report(xg3, 'xgb', 3)"
   ]
  },
  {
   "cell_type": "markdown",
   "metadata": {},
   "source": [
    "### SVM"
   ]
  },
  {
   "cell_type": "code",
   "execution_count": 18,
   "metadata": {},
   "outputs": [
    {
     "data": {
      "text/plain": [
       "SVC()"
      ]
     },
     "execution_count": 18,
     "metadata": {},
     "output_type": "execute_result"
    }
   ],
   "source": [
    "svc = SVC()\n",
    "svc.fit(X_train, y_train.values.ravel())"
   ]
  },
  {
   "cell_type": "code",
   "execution_count": 19,
   "metadata": {},
   "outputs": [],
   "source": [
    "result_svm_train = svc.predict(X_train)\n",
    "result_svm_test =  svc.predict(X_test)\n"
   ]
  },
  {
   "cell_type": "code",
   "execution_count": 82,
   "metadata": {},
   "outputs": [
    {
     "name": "stdout",
     "output_type": "stream",
     "text": [
      "              precision    recall  f1-score   support\n",
      "\n",
      "           0       0.77      0.89      0.83     38326\n",
      "           1       0.87      0.73      0.80     38326\n",
      "\n",
      "    accuracy                           0.81     76652\n",
      "   macro avg       0.82      0.81      0.81     76652\n",
      "weighted avg       0.82      0.81      0.81     76652\n",
      "\n",
      "              precision    recall  f1-score   support\n",
      "\n",
      "           0       0.90      0.86      0.88     12775\n",
      "           1       0.63      0.72      0.67      4342\n",
      "\n",
      "    accuracy                           0.82     17117\n",
      "   macro avg       0.76      0.79      0.77     17117\n",
      "weighted avg       0.83      0.82      0.83     17117\n",
      "\n"
     ]
    }
   ],
   "source": [
    "print(classification_report(y_train, result_svm_train))\n",
    "print(classification_report(y_test, result_svm_test))"
   ]
  },
  {
   "cell_type": "markdown",
   "metadata": {},
   "source": [
    "### Random Forest"
   ]
  },
  {
   "cell_type": "code",
   "execution_count": 44,
   "metadata": {},
   "outputs": [
    {
     "data": {
      "text/plain": [
       "RandomForestClassifier(random_state=77)"
      ]
     },
     "execution_count": 44,
     "metadata": {},
     "output_type": "execute_result"
    }
   ],
   "source": [
    "rf = RandomForestClassifier(random_state = 77)\n",
    "rf.fit(X_train, y_train.values.ravel())"
   ]
  },
  {
   "cell_type": "code",
   "execution_count": 45,
   "metadata": {},
   "outputs": [
    {
     "name": "stdout",
     "output_type": "stream",
     "text": [
      "train: 0.9999981999918964 test: 0.8726052906981462\n"
     ]
    }
   ],
   "source": [
    "result_report(rf, 'rf', 1)"
   ]
  },
  {
   "cell_type": "markdown",
   "metadata": {},
   "source": [
    "Due to overfit, let's consider modifying the following parameters:\n",
    "- min_samples_split : default 2 \n",
    "    - With default 2, trees continuing splitting even with 2 observations, resulting in bigger trees that might overfit\n",
    "- max_depth : default None\n",
    "    - Related to above, trees are allowed to grow until leaves are pure\n",
    "- max_leaf_nodes : default None\n",
    "    - leave as it is?\n",
    "- min_samples_leaf : default \n",
    "    - similar to min_samples_split as it controls generating new splits\n",
    "- max_features : default = auto\n",
    "- max_samples : default = None\n"
   ]
  },
  {
   "cell_type": "markdown",
   "metadata": {},
   "source": [
    "#### 2nd Iteration"
   ]
  },
  {
   "cell_type": "code",
   "execution_count": 46,
   "metadata": {},
   "outputs": [
    {
     "data": {
      "text/plain": [
       "RandomForestClassifier(max_samples=0.5, min_samples_split=20, n_estimators=75,\n",
       "                       random_state=77)"
      ]
     },
     "execution_count": 46,
     "metadata": {},
     "output_type": "execute_result"
    }
   ],
   "source": [
    "rf2 = RandomForestClassifier(   random_state = 77,\n",
    "                                n_estimators = 75,\n",
    "                                min_samples_split = 20,\n",
    "                                max_samples = 0.5\n",
    "                                )\n",
    "rf2.fit(X_train, y_train.values.ravel())"
   ]
  },
  {
   "cell_type": "code",
   "execution_count": 47,
   "metadata": {},
   "outputs": [
    {
     "name": "stdout",
     "output_type": "stream",
     "text": [
      "train: 0.9836888473695491 test: 0.8801921341721193\n"
     ]
    }
   ],
   "source": [
    "result_report(rf2, 'rf', 2)"
   ]
  },
  {
   "cell_type": "code",
   "execution_count": 48,
   "metadata": {},
   "outputs": [],
   "source": [
    "param_dict_rf = {   #'random_state'      : 77,\n",
    "                    'n_estimators'      : [25, 50, 75, 100],\n",
    "                    'max_depth'         : [5, 6, 7, 8],\n",
    "                    'min_samples_split' : [10, 20, 30],\n",
    "                    'max_samples'       : [0.2, 0.5, 0.75]\n",
    "                }"
   ]
  },
  {
   "cell_type": "code",
   "execution_count": 49,
   "metadata": {},
   "outputs": [],
   "source": [
    "grid_model_rf = GridSearchCV(   param_grid = param_dict_rf,\n",
    "                                estimator = rf2,\n",
    "                                cv = 5,\n",
    "                                verbose = 1\n",
    "                            )"
   ]
  },
  {
   "cell_type": "code",
   "execution_count": 50,
   "metadata": {},
   "outputs": [
    {
     "name": "stdout",
     "output_type": "stream",
     "text": [
      "Fitting 5 folds for each of 144 candidates, totalling 720 fits\n"
     ]
    },
    {
     "data": {
      "text/plain": [
       "{'max_depth': 8,\n",
       " 'max_samples': 0.5,\n",
       " 'min_samples_split': 30,\n",
       " 'n_estimators': 50}"
      ]
     },
     "execution_count": 50,
     "metadata": {},
     "output_type": "execute_result"
    }
   ],
   "source": [
    "grid_model_rf.fit(X_train, y_train.values.ravel())\n",
    "grid_model_rf.best_params_\n"
   ]
  },
  {
   "cell_type": "markdown",
   "metadata": {},
   "source": [
    "#### 3rd Iteration"
   ]
  },
  {
   "cell_type": "code",
   "execution_count": 51,
   "metadata": {},
   "outputs": [
    {
     "data": {
      "text/plain": [
       "RandomForestClassifier(max_depth=8, max_samples=0.5, min_samples_split=30,\n",
       "                       n_estimators=50, random_state=77)"
      ]
     },
     "execution_count": 51,
     "metadata": {},
     "output_type": "execute_result"
    }
   ],
   "source": [
    "rf3 = RandomForestClassifier(   random_state = 77,\n",
    "                                n_estimators = 50,\n",
    "                                max_depth = 8,\n",
    "                                min_samples_split = 30,\n",
    "                                max_samples = 0.5\n",
    "                                )\n",
    "rf3.fit(X_train, y_train.values.ravel())"
   ]
  },
  {
   "cell_type": "code",
   "execution_count": 52,
   "metadata": {},
   "outputs": [
    {
     "name": "stdout",
     "output_type": "stream",
     "text": [
      "train: 0.9121645120183886 test: 0.8891495076984373\n"
     ]
    }
   ],
   "source": [
    "result_report(rf3, 'rf', 3)"
   ]
  },
  {
   "cell_type": "code",
   "execution_count": 53,
   "metadata": {},
   "outputs": [],
   "source": [
    "df_feature_rf = pd.DataFrame( {'feature' : X_train.columns, 'importance' : rf3.feature_importances_ })"
   ]
  },
  {
   "cell_type": "code",
   "execution_count": 54,
   "metadata": {},
   "outputs": [
    {
     "data": {
      "text/html": [
       "<div>\n",
       "<style scoped>\n",
       "    .dataframe tbody tr th:only-of-type {\n",
       "        vertical-align: middle;\n",
       "    }\n",
       "\n",
       "    .dataframe tbody tr th {\n",
       "        vertical-align: top;\n",
       "    }\n",
       "\n",
       "    .dataframe thead th {\n",
       "        text-align: right;\n",
       "    }\n",
       "</style>\n",
       "<table border=\"1\" class=\"dataframe\">\n",
       "  <thead>\n",
       "    <tr style=\"text-align: right;\">\n",
       "      <th></th>\n",
       "      <th>feature</th>\n",
       "      <th>importance</th>\n",
       "    </tr>\n",
       "  </thead>\n",
       "  <tbody>\n",
       "    <tr>\n",
       "      <th>16</th>\n",
       "      <td>institution_GB005</td>\n",
       "      <td>0.000066</td>\n",
       "    </tr>\n",
       "    <tr>\n",
       "      <th>12</th>\n",
       "      <td>institution_AU004</td>\n",
       "      <td>0.000145</td>\n",
       "    </tr>\n",
       "    <tr>\n",
       "      <th>20</th>\n",
       "      <td>adm_appl_method_HRD</td>\n",
       "      <td>0.000262</td>\n",
       "    </tr>\n",
       "    <tr>\n",
       "      <th>18</th>\n",
       "      <td>institution_GB008</td>\n",
       "      <td>0.000329</td>\n",
       "    </tr>\n",
       "    <tr>\n",
       "      <th>14</th>\n",
       "      <td>institution_GB002</td>\n",
       "      <td>0.000382</td>\n",
       "    </tr>\n",
       "    <tr>\n",
       "      <th>17</th>\n",
       "      <td>institution_GB007</td>\n",
       "      <td>0.000420</td>\n",
       "    </tr>\n",
       "    <tr>\n",
       "      <th>21</th>\n",
       "      <td>adm_appl_method_PPG</td>\n",
       "      <td>0.000619</td>\n",
       "    </tr>\n",
       "    <tr>\n",
       "      <th>32</th>\n",
       "      <td>race_code_MALAY</td>\n",
       "      <td>0.000774</td>\n",
       "    </tr>\n",
       "    <tr>\n",
       "      <th>23</th>\n",
       "      <td>adm_appl_method_WWW</td>\n",
       "      <td>0.000998</td>\n",
       "    </tr>\n",
       "    <tr>\n",
       "      <th>28</th>\n",
       "      <td>appl_first_citizenship_P</td>\n",
       "      <td>0.001313</td>\n",
       "    </tr>\n",
       "    <tr>\n",
       "      <th>4</th>\n",
       "      <td>direct</td>\n",
       "      <td>0.001317</td>\n",
       "    </tr>\n",
       "    <tr>\n",
       "      <th>33</th>\n",
       "      <td>race_code_OTHERS</td>\n",
       "      <td>0.001349</td>\n",
       "    </tr>\n",
       "    <tr>\n",
       "      <th>27</th>\n",
       "      <td>appl_first_nationality_OTHR</td>\n",
       "      <td>0.001441</td>\n",
       "    </tr>\n",
       "    <tr>\n",
       "      <th>2</th>\n",
       "      <td>sm_o_lvl_passes</td>\n",
       "      <td>0.001851</td>\n",
       "    </tr>\n",
       "    <tr>\n",
       "      <th>10</th>\n",
       "      <td>institution_AU002</td>\n",
       "      <td>0.001937</td>\n",
       "    </tr>\n",
       "    <tr>\n",
       "      <th>31</th>\n",
       "      <td>race_code_INDIAN</td>\n",
       "      <td>0.002354</td>\n",
       "    </tr>\n",
       "    <tr>\n",
       "      <th>34</th>\n",
       "      <td>acad_load_P</td>\n",
       "      <td>0.002821</td>\n",
       "    </tr>\n",
       "    <tr>\n",
       "      <th>25</th>\n",
       "      <td>appl_first_nationality_IND</td>\n",
       "      <td>0.002841</td>\n",
       "    </tr>\n",
       "    <tr>\n",
       "      <th>29</th>\n",
       "      <td>appl_first_citizenship_S</td>\n",
       "      <td>0.003318</td>\n",
       "    </tr>\n",
       "    <tr>\n",
       "      <th>22</th>\n",
       "      <td>adm_appl_method_PRG</td>\n",
       "      <td>0.003395</td>\n",
       "    </tr>\n",
       "    <tr>\n",
       "      <th>26</th>\n",
       "      <td>appl_first_nationality_MYS</td>\n",
       "      <td>0.004395</td>\n",
       "    </tr>\n",
       "    <tr>\n",
       "      <th>15</th>\n",
       "      <td>institution_GB004</td>\n",
       "      <td>0.004505</td>\n",
       "    </tr>\n",
       "    <tr>\n",
       "      <th>11</th>\n",
       "      <td>institution_AU003</td>\n",
       "      <td>0.004544</td>\n",
       "    </tr>\n",
       "    <tr>\n",
       "      <th>24</th>\n",
       "      <td>appl_first_nationality_IDN</td>\n",
       "      <td>0.005426</td>\n",
       "    </tr>\n",
       "    <tr>\n",
       "      <th>30</th>\n",
       "      <td>gender_code_M</td>\n",
       "      <td>0.008490</td>\n",
       "    </tr>\n",
       "    <tr>\n",
       "      <th>19</th>\n",
       "      <td>institution_US002</td>\n",
       "      <td>0.009825</td>\n",
       "    </tr>\n",
       "    <tr>\n",
       "      <th>3</th>\n",
       "      <td>nth_appl</td>\n",
       "      <td>0.009940</td>\n",
       "    </tr>\n",
       "    <tr>\n",
       "      <th>1</th>\n",
       "      <td>dipl_gpa</td>\n",
       "      <td>0.011632</td>\n",
       "    </tr>\n",
       "    <tr>\n",
       "      <th>7</th>\n",
       "      <td>past_student</td>\n",
       "      <td>0.015650</td>\n",
       "    </tr>\n",
       "    <tr>\n",
       "      <th>5</th>\n",
       "      <td>appl_time_to_start</td>\n",
       "      <td>0.017428</td>\n",
       "    </tr>\n",
       "    <tr>\n",
       "      <th>9</th>\n",
       "      <td>age_lambda_opt</td>\n",
       "      <td>0.018484</td>\n",
       "    </tr>\n",
       "    <tr>\n",
       "      <th>13</th>\n",
       "      <td>institution_GB001</td>\n",
       "      <td>0.020840</td>\n",
       "    </tr>\n",
       "    <tr>\n",
       "      <th>8</th>\n",
       "      <td>edu_level_grp</td>\n",
       "      <td>0.028659</td>\n",
       "    </tr>\n",
       "    <tr>\n",
       "      <th>0</th>\n",
       "      <td>more_than_1_appl_cal_year</td>\n",
       "      <td>0.108401</td>\n",
       "    </tr>\n",
       "    <tr>\n",
       "      <th>6</th>\n",
       "      <td>expected_study_length</td>\n",
       "      <td>0.703850</td>\n",
       "    </tr>\n",
       "  </tbody>\n",
       "</table>\n",
       "</div>"
      ],
      "text/plain": [
       "                        feature  importance\n",
       "16            institution_GB005    0.000066\n",
       "12            institution_AU004    0.000145\n",
       "20          adm_appl_method_HRD    0.000262\n",
       "18            institution_GB008    0.000329\n",
       "14            institution_GB002    0.000382\n",
       "17            institution_GB007    0.000420\n",
       "21          adm_appl_method_PPG    0.000619\n",
       "32              race_code_MALAY    0.000774\n",
       "23          adm_appl_method_WWW    0.000998\n",
       "28     appl_first_citizenship_P    0.001313\n",
       "4                        direct    0.001317\n",
       "33             race_code_OTHERS    0.001349\n",
       "27  appl_first_nationality_OTHR    0.001441\n",
       "2               sm_o_lvl_passes    0.001851\n",
       "10            institution_AU002    0.001937\n",
       "31             race_code_INDIAN    0.002354\n",
       "34                  acad_load_P    0.002821\n",
       "25   appl_first_nationality_IND    0.002841\n",
       "29     appl_first_citizenship_S    0.003318\n",
       "22          adm_appl_method_PRG    0.003395\n",
       "26   appl_first_nationality_MYS    0.004395\n",
       "15            institution_GB004    0.004505\n",
       "11            institution_AU003    0.004544\n",
       "24   appl_first_nationality_IDN    0.005426\n",
       "30                gender_code_M    0.008490\n",
       "19            institution_US002    0.009825\n",
       "3                      nth_appl    0.009940\n",
       "1                      dipl_gpa    0.011632\n",
       "7                  past_student    0.015650\n",
       "5            appl_time_to_start    0.017428\n",
       "9                age_lambda_opt    0.018484\n",
       "13            institution_GB001    0.020840\n",
       "8                 edu_level_grp    0.028659\n",
       "0     more_than_1_appl_cal_year    0.108401\n",
       "6         expected_study_length    0.703850"
      ]
     },
     "execution_count": 54,
     "metadata": {},
     "output_type": "execute_result"
    }
   ],
   "source": [
    "#ranking features by importance to the model\n",
    "df_feature_rf.sort_values(by='importance')"
   ]
  },
  {
   "cell_type": "markdown",
   "metadata": {},
   "source": [
    "#### 4th Iteration"
   ]
  },
  {
   "cell_type": "markdown",
   "metadata": {},
   "source": [
    "Let's try dropping features the lowest 10 features."
   ]
  },
  {
   "cell_type": "code",
   "execution_count": 55,
   "metadata": {},
   "outputs": [],
   "source": [
    "feature_list_to_drop = df_feature_rf.sort_values(by='importance')['feature'][0:10].tolist()"
   ]
  },
  {
   "cell_type": "code",
   "execution_count": 56,
   "metadata": {},
   "outputs": [],
   "source": [
    "\n",
    "X_train_1 = X_train.drop(feature_list_to_drop, axis=1)\n",
    "X_test_1 = X_test.drop(feature_list_to_drop, axis=1)\n"
   ]
  },
  {
   "cell_type": "code",
   "execution_count": 57,
   "metadata": {},
   "outputs": [
    {
     "data": {
      "text/plain": [
       "RandomForestClassifier(max_depth=8, max_samples=0.5, min_samples_split=20,\n",
       "                       n_estimators=75, random_state=77)"
      ]
     },
     "execution_count": 57,
     "metadata": {},
     "output_type": "execute_result"
    }
   ],
   "source": [
    "rf4 = RandomForestClassifier(   random_state = 77,\n",
    "                                n_estimators = 75,\n",
    "                                min_samples_split = 20,\n",
    "                                max_samples = 0.5,\n",
    "                                max_depth = 8\n",
    "                                )\n",
    "rf4.fit(X_train_1, y_train.values.ravel())\n"
   ]
  },
  {
   "cell_type": "code",
   "execution_count": 58,
   "metadata": {},
   "outputs": [
    {
     "name": "stdout",
     "output_type": "stream",
     "text": [
      "train: 0.9218447581703955 test: 0.9024255327971185\n"
     ]
    }
   ],
   "source": [
    "result_report(rf4, 'rf', 4, X_train=X_train_1, X_test=X_test_1)"
   ]
  },
  {
   "cell_type": "code",
   "execution_count": 60,
   "metadata": {},
   "outputs": [
    {
     "data": {
      "image/png": "[encoded data removed]",
      "text/plain": [
       "<Figure size 432x288 with 2 Axes>"
      ]
     },
     "metadata": {
      "needs_background": "light"
     },
     "output_type": "display_data"
    }
   ],
   "source": [
    "cm_heatmap(all_results['rf-4']['test']['cm'])"
   ]
  },
  {
   "cell_type": "markdown",
   "metadata": {},
   "source": [
    "### Log Reg"
   ]
  },
  {
   "cell_type": "code",
   "execution_count": 61,
   "metadata": {},
   "outputs": [
    {
     "data": {
      "text/plain": [
       "LogisticRegression(random_state=24)"
      ]
     },
     "execution_count": 61,
     "metadata": {},
     "output_type": "execute_result"
    }
   ],
   "source": [
    "lr = LogisticRegression(random_state = 24)\n",
    "\n",
    "lr.fit(X_train, y_train.values.ravel())"
   ]
  },
  {
   "cell_type": "code",
   "execution_count": 62,
   "metadata": {},
   "outputs": [
    {
     "name": "stdout",
     "output_type": "stream",
     "text": [
      "train: 0.6869005447105007 test: 0.6835263538856352\n"
     ]
    }
   ],
   "source": [
    "result_report(lr, 'lr', 1)"
   ]
  },
  {
   "cell_type": "markdown",
   "metadata": {},
   "source": [
    "### Naive Bayes"
   ]
  },
  {
   "cell_type": "code",
   "execution_count": 66,
   "metadata": {},
   "outputs": [
    {
     "data": {
      "text/plain": [
       "GaussianNB()"
      ]
     },
     "execution_count": 66,
     "metadata": {},
     "output_type": "execute_result"
    }
   ],
   "source": [
    "nb = GaussianNB()\n",
    "nb.fit(X_train, y_train.values.ravel())"
   ]
  },
  {
   "cell_type": "code",
   "execution_count": 67,
   "metadata": {},
   "outputs": [
    {
     "name": "stdout",
     "output_type": "stream",
     "text": [
      "train: 0.7033151174737164 test: 0.6835266874049583\n"
     ]
    }
   ],
   "source": [
    "result_report(nb, 'nb', 1)"
   ]
  },
  {
   "cell_type": "markdown",
   "metadata": {},
   "source": [
    "### Compare Results"
   ]
  },
  {
   "cell_type": "code",
   "execution_count": 68,
   "metadata": {},
   "outputs": [],
   "source": [
    "model = []\n",
    "precision = []\n",
    "recall = []\n",
    "auc = []\n",
    "accuracy = []\n",
    "for k in all_results.keys():\n",
    "    model.append(k)\n",
    "    precision.append(all_results[k]['test']['1']['precision'])\n",
    "    recall.append(all_results[k]['test']['1']['recall'])\n",
    "    auc.append(all_results[k]['test']['auc'])\n",
    "    accuracy.append(all_results[k]['test']['accuracy'])"
   ]
  },
  {
   "cell_type": "code",
   "execution_count": 69,
   "metadata": {},
   "outputs": [
    {
     "data": {
      "text/html": [
       "<div>\n",
       "<style scoped>\n",
       "    .dataframe tbody tr th:only-of-type {\n",
       "        vertical-align: middle;\n",
       "    }\n",
       "\n",
       "    .dataframe tbody tr th {\n",
       "        vertical-align: top;\n",
       "    }\n",
       "\n",
       "    .dataframe thead th {\n",
       "        text-align: right;\n",
       "    }\n",
       "</style>\n",
       "<table border=\"1\" class=\"dataframe\">\n",
       "  <thead>\n",
       "    <tr style=\"text-align: right;\">\n",
       "      <th></th>\n",
       "      <th>model</th>\n",
       "      <th>precision</th>\n",
       "      <th>recall</th>\n",
       "      <th>accuracy</th>\n",
       "      <th>auc</th>\n",
       "    </tr>\n",
       "  </thead>\n",
       "  <tbody>\n",
       "    <tr>\n",
       "      <th>7</th>\n",
       "      <td>lr-1</td>\n",
       "      <td>0.397935</td>\n",
       "      <td>0.621373</td>\n",
       "      <td>0.665479</td>\n",
       "      <td>0.683526</td>\n",
       "    </tr>\n",
       "    <tr>\n",
       "      <th>8</th>\n",
       "      <td>lr-2</td>\n",
       "      <td>0.397935</td>\n",
       "      <td>0.621373</td>\n",
       "      <td>0.665479</td>\n",
       "      <td>0.683527</td>\n",
       "    </tr>\n",
       "    <tr>\n",
       "      <th>9</th>\n",
       "      <td>nb-1</td>\n",
       "      <td>0.273540</td>\n",
       "      <td>0.909258</td>\n",
       "      <td>0.364433</td>\n",
       "      <td>0.683527</td>\n",
       "    </tr>\n",
       "    <tr>\n",
       "      <th>3</th>\n",
       "      <td>rf-1</td>\n",
       "      <td>0.777279</td>\n",
       "      <td>0.757946</td>\n",
       "      <td>0.883508</td>\n",
       "      <td>0.872605</td>\n",
       "    </tr>\n",
       "    <tr>\n",
       "      <th>4</th>\n",
       "      <td>rf-2</td>\n",
       "      <td>0.805128</td>\n",
       "      <td>0.759327</td>\n",
       "      <td>0.892329</td>\n",
       "      <td>0.880192</td>\n",
       "    </tr>\n",
       "    <tr>\n",
       "      <th>5</th>\n",
       "      <td>rf-3</td>\n",
       "      <td>0.573043</td>\n",
       "      <td>0.817596</td>\n",
       "      <td>0.799205</td>\n",
       "      <td>0.889150</td>\n",
       "    </tr>\n",
       "    <tr>\n",
       "      <th>6</th>\n",
       "      <td>rf-4</td>\n",
       "      <td>0.857556</td>\n",
       "      <td>0.751497</td>\n",
       "      <td>0.905299</td>\n",
       "      <td>0.902426</td>\n",
       "    </tr>\n",
       "    <tr>\n",
       "      <th>0</th>\n",
       "      <td>xgb-1</td>\n",
       "      <td>0.316057</td>\n",
       "      <td>0.957854</td>\n",
       "      <td>0.463516</td>\n",
       "      <td>0.899266</td>\n",
       "    </tr>\n",
       "    <tr>\n",
       "      <th>1</th>\n",
       "      <td>xgb-2</td>\n",
       "      <td>0.419154</td>\n",
       "      <td>0.899125</td>\n",
       "      <td>0.658351</td>\n",
       "      <td>0.899217</td>\n",
       "    </tr>\n",
       "    <tr>\n",
       "      <th>2</th>\n",
       "      <td>xgb-3</td>\n",
       "      <td>0.607990</td>\n",
       "      <td>0.785122</td>\n",
       "      <td>0.817082</td>\n",
       "      <td>0.880564</td>\n",
       "    </tr>\n",
       "  </tbody>\n",
       "</table>\n",
       "</div>"
      ],
      "text/plain": [
       "   model  precision    recall  accuracy       auc\n",
       "7   lr-1   0.397935  0.621373  0.665479  0.683526\n",
       "8   lr-2   0.397935  0.621373  0.665479  0.683527\n",
       "9   nb-1   0.273540  0.909258  0.364433  0.683527\n",
       "3   rf-1   0.777279  0.757946  0.883508  0.872605\n",
       "4   rf-2   0.805128  0.759327  0.892329  0.880192\n",
       "5   rf-3   0.573043  0.817596  0.799205  0.889150\n",
       "6   rf-4   0.857556  0.751497  0.905299  0.902426\n",
       "0  xgb-1   0.316057  0.957854  0.463516  0.899266\n",
       "1  xgb-2   0.419154  0.899125  0.658351  0.899217\n",
       "2  xgb-3   0.607990  0.785122  0.817082  0.880564"
      ]
     },
     "execution_count": 69,
     "metadata": {},
     "output_type": "execute_result"
    }
   ],
   "source": [
    "d = {   'model': model,\n",
    "        'precision': precision,\n",
    "        'recall' : recall,\n",
    "        'accuracy' : accuracy,\n",
    "        'auc' : auc\n",
    "        }\n",
    "df_result = pd.DataFrame(d)\n",
    "df_result.sort_values(by='model')"
   ]
  },
  {
   "cell_type": "code",
   "execution_count": null,
   "metadata": {},
   "outputs": [
    {
     "data": {
      "text/plain": [
       "{'precision': 0.8575558475689882,\n",
       " 'recall': 0.7514970059880239,\n",
       " 'f1-score': 0.8010310543758439,\n",
       " 'support': 4342}"
      ]
     },
     "metadata": {},
     "output_type": "display_data"
    }
   ],
   "source": [
    "all_results['rf-4']['test']['1']"
   ]
  },
  {
   "cell_type": "code",
   "execution_count": 75,
   "metadata": {},
   "outputs": [
    {
     "data": {
      "text/plain": [
       "Text(33.0, 0.5, 'True Values')"
      ]
     },
     "execution_count": 75,
     "metadata": {},
     "output_type": "execute_result"
    },
    {
     "data": {
      "image/png": "[encoded data removed]",
      "text/plain": [
       "<Figure size 432x288 with 2 Axes>"
      ]
     },
     "metadata": {
      "needs_background": "light"
     },
     "output_type": "display_data"
    }
   ],
   "source": [
    "rf_cm = cm_heatmap(all_results['rf-4']['test']['cm'])\n",
    "rf_cm.set_xlabel(\"Predictions\")\n",
    "rf_cm.set_ylabel(\"True Values\")"
   ]
  },
  {
   "cell_type": "code",
   "execution_count": 77,
   "metadata": {},
   "outputs": [
    {
     "data": {
      "text/plain": [
       "Text(33.0, 0.5, 'True Values')"
      ]
     },
     "execution_count": 77,
     "metadata": {},
     "output_type": "execute_result"
    },
    {
     "data": {
      "image/png": "[encoded data removed]",
      "text/plain": [
       "<Figure size 432x288 with 2 Axes>"
      ]
     },
     "metadata": {
      "needs_background": "light"
     },
     "output_type": "display_data"
    }
   ],
   "source": [
    "xgb_cm = cm_heatmap(all_results['xgb-3']['test']['cm'])\n",
    "xgb_cm.set_xlabel(\"Predictions\")\n",
    "xgb_cm.set_ylabel(\"True Values\")"
   ]
  },
  {
   "cell_type": "code",
   "execution_count": 80,
   "metadata": {},
   "outputs": [
    {
     "data": {
      "text/plain": [
       "{'precision': 0.6079900124843945,\n",
       " 'recall': 0.7851220635651773,\n",
       " 'f1-score': 0.6852950045230677,\n",
       " 'support': 4342}"
      ]
     },
     "execution_count": 80,
     "metadata": {},
     "output_type": "execute_result"
    }
   ],
   "source": [
    "all_results['xgb-3']['test']['1']"
   ]
  },
  {
   "cell_type": "code",
   "execution_count": 86,
   "metadata": {},
   "outputs": [
    {
     "data": {
      "text/plain": [
       "['model_rf']"
      ]
     },
     "execution_count": 86,
     "metadata": {},
     "output_type": "execute_result"
    }
   ],
   "source": [
    "#rf4 seems like the best model so we will save that model\n",
    "joblib.dump(rf4, 'model_rf')"
   ]
  },
  {
   "cell_type": "code",
   "execution_count": null,
   "metadata": {},
   "outputs": [],
   "source": []
  }
 ],
 "metadata": {
  "interpreter": {
   "hash": "06ec8a203daed907d44680683fa2a9c4e7938b5804e1d99db52ad8f37677ef76"
  },
  "kernelspec": {
   "display_name": "Python 3.8.12 ('tensorflowtest')",
   "language": "python",
   "name": "python3"
  },
  "language_info": {
   "codemirror_mode": {
    "name": "ipython",
    "version": 3
   },
   "file_extension": ".py",
   "mimetype": "text/x-python",
   "name": "python",
   "nbconvert_exporter": "python",
   "pygments_lexer": "ipython3",
   "version": "3.8.12"
  },
  "orig_nbformat": 4
 },
 "nbformat": 4,
 "nbformat_minor": 2
}
